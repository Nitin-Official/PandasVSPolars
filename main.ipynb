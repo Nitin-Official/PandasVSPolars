{
 "cells": [
  {
   "cell_type": "markdown",
   "metadata": {},
   "source": [
    "# **Comparison of Pandas, Polars, and Pandas 2.0**\n",
    "\n",
    "## **1. Introduction**\n",
    "When working with large datasets, performance and efficiency play a crucial role. While **Pandas** has been the go-to library for data analysis in Python, newer alternatives like **Polars** have emerged to address its performance limitations. Additionally, **Pandas 2.0** introduces some key optimizations over its predecessor.\n",
    "\n",
    "In this notebook, we compare **Pandas, Polars, and Pandas 2.0** across various operations such as:\n",
    "- **Reading speed**\n",
    "- **Sorting speed**\n",
    "- **Grouping operations**\n",
    "- **Data manipulation**\n",
    "- **Memory usage**\n",
    "\n",
    "---"
   ]
  },
  {
   "cell_type": "markdown",
   "metadata": {},
   "source": [
    "## **2. Overview of Pandas, Polars, and Pandas 2.0**\n",
    "\n",
    "### **Pandas**\n",
    "- **Description**: Pandas is a widely used Python library for data manipulation and analysis. It provides flexible data structures like `DataFrame` and `Series`.\n",
    "- **Pros**:\n",
    "  - Extensive ecosystem and community support\n",
    "  - Easy-to-use API\n",
    "  - Well-integrated with NumPy and SciPy\n",
    "- **Cons**:\n",
    "  - Single-threaded (slower for large datasets)\n",
    "  - High memory consumption\n",
    "\n",
    "### **Polars**\n",
    "- **Description**: Polars is a high-performance DataFrame library designed for parallel processing and lazy evaluation.\n",
    "- **Pros**:\n",
    "  - Faster due to multi-threading and **Rust-based** backend\n",
    "  - Low memory usage with lazy evaluation\n",
    "  - Efficient handling of large datasets\n",
    "- **Cons**:\n",
    "  - Smaller community support compared to Pandas\n",
    "  - Some Pandas functionalities are missing\n",
    "\n",
    "### **Pandas 2.0**\n",
    "- **Description**: Pandas 2.0 introduces support for **PyArrow backend**, enabling faster operations with reduced memory usage.\n",
    "- **Pros**:\n",
    "  - **Arrow-based memory format** improves speed and efficiency\n",
    "  - Backward compatibility with Pandas 1.x\n",
    "  - Better handling of larger-than-memory datasets\n",
    "- **Cons**:\n",
    "  - Still single-threaded for most operations\n",
    "\n",
    "---"
   ]
  },
  {
   "cell_type": "markdown",
   "metadata": {},
   "source": [
    "## **3. Dataset for Benchmarking**\n",
    "To compare the performance of these libraries, we will use a **synthetic dataset** with **10 million rows**, containing:\n",
    "- `ID`: Unique identifier\n",
    "- `Category`: Random categorical values (A, B, C, D, E)\n",
    "- `Value`: Random floating-point numbers\n",
    "- `Date`: Random timestamps\n",
    "\n",
    "Let's generate and save this dataset as a CSV file:"
   ]
  },
  {
   "cell_type": "code",
   "execution_count": 2,
   "metadata": {},
   "outputs": [],
   "source": [
    "import pandas as pd\n",
    "import numpy as np\n",
    "import random\n",
    "from datetime import datetime, timedelta\n",
    "\n",
    "# Set random seed for reproducibility\n",
    "np.random.seed(42)\n",
    "random.seed(42)\n",
    "\n",
    "# Generate data\n",
    "num_rows = 10_000_000\n",
    "dates = [datetime(2020, 1, 1) + timedelta(days=random.randint(0, 365)) for _ in range(num_rows)]\n",
    "data = {\n",
    "    \"ID\": range(1, num_rows + 1),\n",
    "    \"Category\": np.random.choice([\"A\", \"B\", \"C\", \"D\", \"E\"], num_rows),\n",
    "    \"Value\": np.random.rand(num_rows) * 1000,\n",
    "    \"Date\": dates,\n",
    "}\n",
    "\n",
    "# Save dataset as CSV\n",
    "df = pd.DataFrame(data)\n",
    "df.to_csv(\"dataset.csv\", index=False)"
   ]
  },
  {
   "cell_type": "markdown",
   "metadata": {},
   "source": [
    "This dataset is now stored as `dataset.csv` and will be used for benchmarking.\n",
    "\n",
    "---"
   ]
  },
  {
   "cell_type": "markdown",
   "metadata": {},
   "source": [
    "## **4. Benchmarking Metrics**\n",
    "\n",
    "### **4.1. Reading Speed**\n",
    "We measure the time taken to load the dataset into a DataFrame using Pandas and Polars:"
   ]
  },
  {
   "cell_type": "code",
   "execution_count": 3,
   "metadata": {},
   "outputs": [
    {
     "name": "stdout",
     "output_type": "stream",
     "text": [
      "Pandas Read Time: 2.8538 seconds\n",
      "Polars Read Time: 0.3643 seconds\n"
     ]
    }
   ],
   "source": [
    "import polars as pl\n",
    "import time\n",
    "\n",
    "# Pandas Reading Time\n",
    "start_time = time.time()\n",
    "pd_df = pd.read_csv(\"dataset.csv\")\n",
    "pandas_read_time = time.time() - start_time\n",
    "print(f\"Pandas Read Time: {pandas_read_time:.4f} seconds\")\n",
    "\n",
    "# Polars Reading Time\n",
    "start_time = time.time()\n",
    "pl_df = pl.read_csv(\"dataset.csv\")\n",
    "polars_read_time = time.time() - start_time\n",
    "print(f\"Polars Read Time: {polars_read_time:.4f} seconds\")"
   ]
  },
  {
   "cell_type": "markdown",
   "metadata": {},
   "source": [
    "### **4.2. Sorting Speed**\n",
    "Sorting the dataset by `Value`:"
   ]
  },
  {
   "cell_type": "code",
   "execution_count": 4,
   "metadata": {},
   "outputs": [
    {
     "name": "stdout",
     "output_type": "stream",
     "text": [
      "Pandas Sort Time: 1.5792 seconds\n",
      "Polars Sort Time: 0.7911 seconds\n"
     ]
    }
   ],
   "source": [
    "# Pandas Sorting Time\n",
    "start_time = time.time()\n",
    "pd_df_sorted = pd_df.sort_values(by=\"Value\")\n",
    "pandas_sort_time = time.time() - start_time\n",
    "print(f\"Pandas Sort Time: {pandas_sort_time:.4f} seconds\")\n",
    "\n",
    "# Polars Sorting Time\n",
    "start_time = time.time()\n",
    "pl_df_sorted = pl_df.sort(\"Value\")\n",
    "polars_sort_time = time.time() - start_time\n",
    "print(f\"Polars Sort Time: {polars_sort_time:.4f} seconds\")"
   ]
  },
  {
   "cell_type": "markdown",
   "metadata": {},
   "source": [
    "### **4.3. Grouping Operations**\n",
    "Grouping data based on `Category` and summing `Value`:"
   ]
  },
  {
   "cell_type": "code",
   "execution_count": 6,
   "metadata": {},
   "outputs": [
    {
     "name": "stdout",
     "output_type": "stream",
     "text": [
      "Pandas Group Time: 0.2726 seconds\n",
      "Polars Group Time: 0.3458 seconds\n"
     ]
    }
   ],
   "source": [
    "# Pandas Grouping Time\n",
    "start_time = time.time()\n",
    "pd_grouped = pd_df.groupby(\"Category\")[\"Value\"].sum()\n",
    "pandas_group_time = time.time() - start_time\n",
    "print(f\"Pandas Group Time: {pandas_group_time:.4f} seconds\")\n",
    "\n",
    "# Polars Grouping Time\n",
    "start_time = time.time()\n",
    "pl_grouped = pl_df.group_by(\"Category\").agg(pl.col(\"Value\").sum())\n",
    "polars_group_time = time.time() - start_time\n",
    "print(f\"Polars Group Time: {polars_group_time:.4f} seconds\")"
   ]
  },
  {
   "cell_type": "markdown",
   "metadata": {},
   "source": [
    "### **4.4. Data Manipulation**\n",
    "Adding a new column `New_Value = Value * 1.1`:"
   ]
  },
  {
   "cell_type": "code",
   "execution_count": 7,
   "metadata": {},
   "outputs": [
    {
     "name": "stdout",
     "output_type": "stream",
     "text": [
      "Pandas Manipulation Time: 0.0275 seconds\n",
      "Polars Manipulation Time: 0.0222 seconds\n"
     ]
    }
   ],
   "source": [
    "# Pandas Data Manipulation Time\n",
    "start_time = time.time()\n",
    "pd_df[\"New_Value\"] = pd_df[\"Value\"] * 1.1\n",
    "pandas_manipulation_time = time.time() - start_time\n",
    "print(f\"Pandas Manipulation Time: {pandas_manipulation_time:.4f} seconds\")\n",
    "\n",
    "# Polars Data Manipulation Time\n",
    "start_time = time.time()\n",
    "pl_df = pl_df.with_columns((pl.col(\"Value\") * 1.1).alias(\"New_Value\"))\n",
    "polars_manipulation_time = time.time() - start_time\n",
    "print(f\"Polars Manipulation Time: {polars_manipulation_time:.4f} seconds\")"
   ]
  },
  {
   "cell_type": "markdown",
   "metadata": {},
   "source": [
    "## **5. Performance Results**\n",
    "Let's visualize the comparison using a bar chart:"
   ]
  },
  {
   "cell_type": "code",
   "execution_count": 13,
   "metadata": {},
   "outputs": [
    {
     "data": {
      "image/png": "[encoded data removed]",
      "text/plain": [
       "<Figure size 1000x600 with 1 Axes>"
      ]
     },
     "metadata": {},
     "output_type": "display_data"
    }
   ],
   "source": [
    "import matplotlib.pyplot as plt\n",
    "\n",
    "operations = [\"Read\", \"Sort\", \"Group\", \"Manipulate\"]\n",
    "pandas_times = [pandas_read_time, pandas_sort_time, pandas_group_time, pandas_manipulation_time]\n",
    "polars_times = [polars_read_time, polars_sort_time, polars_group_time, polars_manipulation_time]\n",
    "\n",
    "x = np.arange(len(operations))\n",
    "plt.figure(figsize=(10, 6))\n",
    "plt.bar(x - 0.2, pandas_times, 0.4, label=\"Pandas\")\n",
    "plt.bar(x + 0.2, polars_times, 0.4, label=\"Polars\")\n",
    "plt.xticks(x, operations)\n",
    "plt.ylabel(\"Time (seconds)\")\n",
    "plt.title(\"Performance Comparison: Pandas vs Polars\")\n",
    "plt.legend()\n",
    "plt.show()"
   ]
  },
  {
   "cell_type": "markdown",
   "metadata": {},
   "source": [
    "## **6. Conclusion**\n",
    "Based on the results, we determine:\n",
    "- **Which library performs best for each operation**\n",
    "- **When to use Pandas vs. Polars vs. Pandas 2.0**\n",
    "- **How these libraries scale for large datasets**\n",
    "\n",
    "This study helps select the best tool based on performance needs.\n",
    "\n",
    "---"
   ]
  },
  {
   "cell_type": "code",
   "execution_count": null,
   "metadata": {},
   "outputs": [],
   "source": []
  }
 ],
 "metadata": {
  "kernelspec": {
   "display_name": ".venv",
   "language": "python",
   "name": "python3"
  },
  "language_info": {
   "codemirror_mode": {
    "name": "ipython",
    "version": 3
   },
   "file_extension": ".py",
   "mimetype": "text/x-python",
   "name": "python",
   "nbconvert_exporter": "python",
   "pygments_lexer": "ipython3",
   "version": "3.9.13"
  }
 },
 "nbformat": 4,
 "nbformat_minor": 4
}
